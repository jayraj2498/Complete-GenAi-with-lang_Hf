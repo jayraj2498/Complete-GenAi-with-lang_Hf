{
 "cells": [
  {
   "cell_type": "code",
   "execution_count": 43,
   "metadata": {},
   "outputs": [],
   "source": [
    "### Open AI API Key and Open Source models--Llama3,Gemma2,mistral--Groq\n",
    "# https://console.groq.com/keys\n",
    "import os\n",
    "from dotenv import load_dotenv\n",
    "load_dotenv()\n",
    "groq_api_key=os.getenv(\"GROQ_API_KEY\")\n"
   ]
  },
  {
   "cell_type": "code",
   "execution_count": 45,
   "metadata": {},
   "outputs": [
    {
     "data": {
      "text/plain": [
       "'भारत मेरा देश है। \\n\\nसभी भारतीय मेरे भाई और बहन हैं। \\n'"
      ]
     },
     "execution_count": 45,
     "metadata": {},
     "output_type": "execute_result"
    }
   ],
   "source": [
    "from langchain_groq import ChatGroq  \n",
    "from langchain_core.output_parsers import StrOutputParser \n",
    "parser=StrOutputParser()\n",
    "\n",
    "model= ChatGroq(model=\"Gemma2-9b-It\" , groq_api_key=groq_api_key)  \n",
    "\n",
    "from langchain_core.messages import HumanMessage, SystemMessage \n",
    "\n",
    "messages= [ \n",
    "           SystemMessage(content=\"you are an AI Translater translate the following from English to Hindi\")  ,\n",
    "           HumanMessage(content=\"India is my country All indians are my brother and sister\") \n",
    "] \n",
    "\n",
    "\n",
    "result = model.invoke(messages)\n",
    "parser.invoke(result)"
   ]
  },
  {
   "cell_type": "code",
   "execution_count": null,
   "metadata": {},
   "outputs": [],
   "source": [
    "# LangChain Expression Language (LCEL) to chain components together"
   ]
  },
  {
   "cell_type": "code",
   "execution_count": 46,
   "metadata": {},
   "outputs": [
    {
     "data": {
      "text/plain": [
       "'भारत मेरा देश है। \\nसभी भारतीय मेरे भाई और बहन हैं। \\n'"
      ]
     },
     "execution_count": 46,
     "metadata": {},
     "output_type": "execute_result"
    }
   ],
   "source": [
    "### Using LCEL- chain the components\n",
    "chain=model|parser\n",
    "chain.invoke(messages)"
   ]
  },
  {
   "cell_type": "code",
   "execution_count": 56,
   "metadata": {},
   "outputs": [],
   "source": [
    "# By using Prompt templates \n",
    "parser=StrOutputParser()\n",
    "from langchain_core.prompts import ChatPromptTemplate \n",
    "\n",
    "generic_template = \"Translate the following into {language}\"  \n",
    "\n",
    "prompt=ChatPromptTemplate.from_messages(\n",
    "    [ \n",
    "     (\"system\",generic_template) ,\n",
    "     (\"user\" ,\"{text}\")\n",
    "     \n",
    "    ] ) \n",
    "\n",
    "chain = prompt | model | parser \n",
    "\n",
    "\n",
    "# Invoke the chain with input values\n",
    "result = chain.invoke({\"language\": \"Russian\", \"text\": \"The Whole World in one family so dont fight \"})"
   ]
  },
  {
   "cell_type": "code",
   "execution_count": 57,
   "metadata": {},
   "outputs": [
    {
     "data": {
      "text/plain": [
       "'Весь мир в одной семье, поэтому не ссорьтесь. \\n'"
      ]
     },
     "execution_count": 57,
     "metadata": {},
     "output_type": "execute_result"
    }
   ],
   "source": [
    "result\n"
   ]
  },
  {
   "cell_type": "code",
   "execution_count": 40,
   "metadata": {},
   "outputs": [
    {
     "data": {
      "text/plain": [
       "'Bonjour \\n'"
      ]
     },
     "execution_count": 40,
     "metadata": {},
     "output_type": "execute_result"
    }
   ],
   "source": [
    "##Chaining together components with LCEL\n",
    "chain=prompt|model|parser\n",
    "chain.invoke({\"language\":\"French\",\"text\":\"Hello\"})"
   ]
  },
  {
   "cell_type": "code",
   "execution_count": 39,
   "metadata": {},
   "outputs": [
    {
     "data": {
      "text/plain": [
       "'नमस्ते, आप कैसे हैं? \\n(Namaste, aap kaise hain?) \\n'"
      ]
     },
     "execution_count": 39,
     "metadata": {},
     "output_type": "execute_result"
    }
   ],
   "source": [
    "##Chaining together components with LCEL\n",
    "chain=prompt|model|parser\n",
    "chain.invoke({\"language\":\"hindi\",\"text\":\"Hello how are you?\"})"
   ]
  },
  {
   "cell_type": "code",
   "execution_count": 41,
   "metadata": {},
   "outputs": [
    {
     "data": {
      "text/plain": [
       "'नमस्ते, तुम्ही कसे आहात? \\n\\n(Namaste, tumhi kase aahat?) \\n\\n\\nThis is the most common and polite way to say \"Hello, how are you?\" in Marathi. \\n'"
      ]
     },
     "execution_count": 41,
     "metadata": {},
     "output_type": "execute_result"
    }
   ],
   "source": [
    "##Chaining together components with LCEL\n",
    "chain=prompt|model|parser\n",
    "chain.invoke({\"language\":\"Marathi\",\"text\":\"Hello how are you?\"})"
   ]
  },
  {
   "cell_type": "code",
   "execution_count": 42,
   "metadata": {},
   "outputs": [
    {
     "data": {
      "text/plain": [
       "'There are a couple of ways to say \"Hello how are you?\" in Punjabi, depending on the level of formality:\\n\\n**Informal:**\\n\\n* **\"Salaam, kaise ho?\"**  (ਸਲੀਮ, ਕਿਸੇ ਹੋ?) This is a common and friendly way to greet someone.\\n\\n**Formal:**\\n\\n* **\"Namaskar, aap kaise hain?\"** (ਨਮਸਕਾਰ, ਤੁਸੀਂ ਕਿਵੇਂ ਹੋ?) This is a more polite and respectful way to greet someone.\\n\\n\\nLet me know if you\\'d like to learn more Punjabi phrases! \\n'"
      ]
     },
     "execution_count": 42,
     "metadata": {},
     "output_type": "execute_result"
    }
   ],
   "source": [
    "##Chaining together components with LCEL\n",
    "chain=prompt|model|parser\n",
    "chain.invoke({\"language\":\"Punjabi\",\"text\":\"Hello how are you?\"})"
   ]
  },
  {
   "cell_type": "code",
   "execution_count": null,
   "metadata": {},
   "outputs": [],
   "source": []
  },
  {
   "cell_type": "code",
   "execution_count": null,
   "metadata": {},
   "outputs": [],
   "source": [
    "# LangChain Expression Language (LCEL) to chain components together"
   ]
  },
  {
   "cell_type": "code",
   "execution_count": null,
   "metadata": {},
   "outputs": [],
   "source": [
    "# Next we use langserve :\n",
    "\n",
    "# deploye langchain application as rest api "
   ]
  },
  {
   "cell_type": "code",
   "execution_count": 1,
   "metadata": {},
   "outputs": [
    {
     "name": "stdout",
     "output_type": "stream",
     "text": [
      "Requirement already satisfied: fastapi in c:\\users\\jayraj\\anaconda3\\envs\\myenv\\lib\\site-packages (0.115.6)\n",
      "Requirement already satisfied: starlette<0.42.0,>=0.40.0 in c:\\users\\jayraj\\anaconda3\\envs\\myenv\\lib\\site-packages (from fastapi) (0.41.3)\n",
      "Requirement already satisfied: pydantic!=1.8,!=1.8.1,!=2.0.0,!=2.0.1,!=2.1.0,<3.0.0,>=1.7.4 in c:\\users\\jayraj\\anaconda3\\envs\\myenv\\lib\\site-packages (from fastapi) (2.10.3)\n",
      "Requirement already satisfied: typing-extensions>=4.8.0 in c:\\users\\jayraj\\anaconda3\\envs\\myenv\\lib\\site-packages (from fastapi) (4.12.2)\n",
      "Requirement already satisfied: annotated-types>=0.6.0 in c:\\users\\jayraj\\anaconda3\\envs\\myenv\\lib\\site-packages (from pydantic!=1.8,!=1.8.1,!=2.0.0,!=2.0.1,!=2.1.0,<3.0.0,>=1.7.4->fastapi) (0.7.0)\n",
      "Requirement already satisfied: pydantic-core==2.27.1 in c:\\users\\jayraj\\anaconda3\\envs\\myenv\\lib\\site-packages (from pydantic!=1.8,!=1.8.1,!=2.0.0,!=2.0.1,!=2.1.0,<3.0.0,>=1.7.4->fastapi) (2.27.1)\n",
      "Requirement already satisfied: anyio<5,>=3.4.0 in c:\\users\\jayraj\\appdata\\roaming\\python\\python310\\site-packages (from starlette<0.42.0,>=0.40.0->fastapi) (3.6.2)\n",
      "Requirement already satisfied: idna>=2.8 in c:\\users\\jayraj\\appdata\\roaming\\python\\python310\\site-packages (from anyio<5,>=3.4.0->starlette<0.42.0,>=0.40.0->fastapi) (3.4)\n",
      "Requirement already satisfied: sniffio>=1.1 in c:\\users\\jayraj\\appdata\\roaming\\python\\python310\\site-packages (from anyio<5,>=3.4.0->starlette<0.42.0,>=0.40.0->fastapi) (1.3.0)\n"
     ]
    }
   ],
   "source": [
    "!pip install fastapi"
   ]
  },
  {
   "cell_type": "code",
   "execution_count": 2,
   "metadata": {},
   "outputs": [
    {
     "name": "stdout",
     "output_type": "stream",
     "text": [
      "Requirement already satisfied: uvicorn in c:\\users\\jayraj\\anaconda3\\envs\\myenv\\lib\\site-packages (0.32.1)\n",
      "Requirement already satisfied: click>=7.0 in c:\\users\\jayraj\\anaconda3\\envs\\myenv\\lib\\site-packages (from uvicorn) (8.1.7)\n",
      "Requirement already satisfied: h11>=0.8 in c:\\users\\jayraj\\anaconda3\\envs\\myenv\\lib\\site-packages (from uvicorn) (0.14.0)\n",
      "Requirement already satisfied: typing-extensions>=4.0 in c:\\users\\jayraj\\anaconda3\\envs\\myenv\\lib\\site-packages (from uvicorn) (4.12.2)\n",
      "Requirement already satisfied: colorama in c:\\users\\jayraj\\appdata\\roaming\\python\\python310\\site-packages (from click>=7.0->uvicorn) (0.4.5)\n"
     ]
    }
   ],
   "source": [
    "!pip install uvicorn "
   ]
  },
  {
   "cell_type": "code",
   "execution_count": 3,
   "metadata": {},
   "outputs": [
    {
     "name": "stdout",
     "output_type": "stream",
     "text": [
      "Collecting langserve[all]\n",
      "  Downloading langserve-0.3.0-py3-none-any.whl.metadata (39 kB)\n",
      "Requirement already satisfied: httpx<1.0,>=0.23.0 in c:\\users\\jayraj\\anaconda3\\envs\\myenv\\lib\\site-packages (from langserve[all]) (0.27.2)\n",
      "Requirement already satisfied: langchain-core<0.4,>=0.3 in c:\\users\\jayraj\\anaconda3\\envs\\myenv\\lib\\site-packages (from langserve[all]) (0.3.25)\n",
      "Requirement already satisfied: orjson<4,>=2 in c:\\users\\jayraj\\anaconda3\\envs\\myenv\\lib\\site-packages (from langserve[all]) (3.10.12)\n",
      "Requirement already satisfied: pydantic<3.0,>=2.7 in c:\\users\\jayraj\\anaconda3\\envs\\myenv\\lib\\site-packages (from langserve[all]) (2.10.3)\n",
      "Requirement already satisfied: fastapi<1,>=0.90.1 in c:\\users\\jayraj\\anaconda3\\envs\\myenv\\lib\\site-packages (from langserve[all]) (0.115.6)\n",
      "Collecting sse-starlette<2.0.0,>=1.3.0 (from langserve[all])\n",
      "  Downloading sse_starlette-1.8.2-py3-none-any.whl.metadata (5.4 kB)\n",
      "Requirement already satisfied: starlette<0.42.0,>=0.40.0 in c:\\users\\jayraj\\anaconda3\\envs\\myenv\\lib\\site-packages (from fastapi<1,>=0.90.1->langserve[all]) (0.41.3)\n",
      "Requirement already satisfied: typing-extensions>=4.8.0 in c:\\users\\jayraj\\anaconda3\\envs\\myenv\\lib\\site-packages (from fastapi<1,>=0.90.1->langserve[all]) (4.12.2)\n",
      "Requirement already satisfied: anyio in c:\\users\\jayraj\\appdata\\roaming\\python\\python310\\site-packages (from httpx<1.0,>=0.23.0->langserve[all]) (3.6.2)\n",
      "Requirement already satisfied: certifi in c:\\users\\jayraj\\anaconda3\\envs\\myenv\\lib\\site-packages (from httpx<1.0,>=0.23.0->langserve[all]) (2024.8.30)\n",
      "Requirement already satisfied: httpcore==1.* in c:\\users\\jayraj\\anaconda3\\envs\\myenv\\lib\\site-packages (from httpx<1.0,>=0.23.0->langserve[all]) (1.0.7)\n",
      "Requirement already satisfied: idna in c:\\users\\jayraj\\appdata\\roaming\\python\\python310\\site-packages (from httpx<1.0,>=0.23.0->langserve[all]) (3.4)\n",
      "Requirement already satisfied: sniffio in c:\\users\\jayraj\\appdata\\roaming\\python\\python310\\site-packages (from httpx<1.0,>=0.23.0->langserve[all]) (1.3.0)\n",
      "Requirement already satisfied: h11<0.15,>=0.13 in c:\\users\\jayraj\\anaconda3\\envs\\myenv\\lib\\site-packages (from httpcore==1.*->httpx<1.0,>=0.23.0->langserve[all]) (0.14.0)\n",
      "Requirement already satisfied: PyYAML>=5.3 in c:\\users\\jayraj\\anaconda3\\envs\\myenv\\lib\\site-packages (from langchain-core<0.4,>=0.3->langserve[all]) (6.0.2)\n",
      "Requirement already satisfied: jsonpatch<2.0,>=1.33 in c:\\users\\jayraj\\anaconda3\\envs\\myenv\\lib\\site-packages (from langchain-core<0.4,>=0.3->langserve[all]) (1.33)\n",
      "Requirement already satisfied: langsmith<0.3,>=0.1.125 in c:\\users\\jayraj\\anaconda3\\envs\\myenv\\lib\\site-packages (from langchain-core<0.4,>=0.3->langserve[all]) (0.2.3)\n",
      "Requirement already satisfied: packaging<25,>=23.2 in c:\\users\\jayraj\\anaconda3\\envs\\myenv\\lib\\site-packages (from langchain-core<0.4,>=0.3->langserve[all]) (24.2)\n",
      "Requirement already satisfied: tenacity!=8.4.0,<10.0.0,>=8.1.0 in c:\\users\\jayraj\\anaconda3\\envs\\myenv\\lib\\site-packages (from langchain-core<0.4,>=0.3->langserve[all]) (9.0.0)\n",
      "Requirement already satisfied: annotated-types>=0.6.0 in c:\\users\\jayraj\\anaconda3\\envs\\myenv\\lib\\site-packages (from pydantic<3.0,>=2.7->langserve[all]) (0.7.0)\n",
      "Requirement already satisfied: pydantic-core==2.27.1 in c:\\users\\jayraj\\anaconda3\\envs\\myenv\\lib\\site-packages (from pydantic<3.0,>=2.7->langserve[all]) (2.27.1)\n",
      "Requirement already satisfied: uvicorn in c:\\users\\jayraj\\anaconda3\\envs\\myenv\\lib\\site-packages (from sse-starlette<2.0.0,>=1.3.0->langserve[all]) (0.32.1)\n",
      "Requirement already satisfied: jsonpointer>=1.9 in c:\\users\\jayraj\\anaconda3\\envs\\myenv\\lib\\site-packages (from jsonpatch<2.0,>=1.33->langchain-core<0.4,>=0.3->langserve[all]) (3.0.0)\n",
      "Requirement already satisfied: requests<3,>=2 in c:\\users\\jayraj\\anaconda3\\envs\\myenv\\lib\\site-packages (from langsmith<0.3,>=0.1.125->langchain-core<0.4,>=0.3->langserve[all]) (2.32.3)\n",
      "Requirement already satisfied: requests-toolbelt<2.0.0,>=1.0.0 in c:\\users\\jayraj\\anaconda3\\envs\\myenv\\lib\\site-packages (from langsmith<0.3,>=0.1.125->langchain-core<0.4,>=0.3->langserve[all]) (1.0.0)\n",
      "Requirement already satisfied: click>=7.0 in c:\\users\\jayraj\\anaconda3\\envs\\myenv\\lib\\site-packages (from uvicorn->sse-starlette<2.0.0,>=1.3.0->langserve[all]) (8.1.7)\n",
      "Requirement already satisfied: colorama in c:\\users\\jayraj\\appdata\\roaming\\python\\python310\\site-packages (from click>=7.0->uvicorn->sse-starlette<2.0.0,>=1.3.0->langserve[all]) (0.4.5)\n",
      "Requirement already satisfied: charset-normalizer<4,>=2 in c:\\users\\jayraj\\anaconda3\\envs\\myenv\\lib\\site-packages (from requests<3,>=2->langsmith<0.3,>=0.1.125->langchain-core<0.4,>=0.3->langserve[all]) (3.4.0)\n",
      "Requirement already satisfied: urllib3<3,>=1.21.1 in c:\\users\\jayraj\\anaconda3\\envs\\myenv\\lib\\site-packages (from requests<3,>=2->langsmith<0.3,>=0.1.125->langchain-core<0.4,>=0.3->langserve[all]) (2.2.3)\n",
      "Downloading sse_starlette-1.8.2-py3-none-any.whl (8.9 kB)\n",
      "Downloading langserve-0.3.0-py3-none-any.whl (1.2 MB)\n",
      "   ---------------------------------------- 1.2/1.2 MB 1.3 MB/s eta 0:00:00\n",
      "Installing collected packages: sse-starlette, langserve\n",
      "Successfully installed langserve-0.3.0 sse-starlette-1.8.2\n"
     ]
    }
   ],
   "source": [
    "!pip install langserve[all]"
   ]
  },
  {
   "cell_type": "code",
   "execution_count": 2,
   "metadata": {},
   "outputs": [],
   "source": [
    "from langserve import add_routes  # this  will help you to crete your api "
   ]
  }
 ],
 "metadata": {
  "kernelspec": {
   "display_name": "myenv",
   "language": "python",
   "name": "python3"
  },
  "language_info": {
   "codemirror_mode": {
    "name": "ipython",
    "version": 3
   },
   "file_extension": ".py",
   "mimetype": "text/x-python",
   "name": "python",
   "nbconvert_exporter": "python",
   "pygments_lexer": "ipython3",
   "version": "3.10.16"
  }
 },
 "nbformat": 4,
 "nbformat_minor": 2
}
